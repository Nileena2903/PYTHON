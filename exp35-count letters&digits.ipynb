{
 "cells": [
  {
   "cell_type": "code",
   "execution_count": 5,
   "metadata": {},
   "outputs": [
    {
     "name": "stdout",
     "output_type": "stream",
     "text": [
      "enter a string :tomato[105]\n",
      "Number of letters= 6\n",
      "Numbers of digits= 3\n"
     ]
    }
   ],
   "source": [
    "#count numbers of letters and digits\n",
    "\n",
    "x=input(\"enter a string :\")\n",
    "a=b=0\n",
    "for c in x:\n",
    "    if(c.isalpha()):\n",
    "        a=a+1\n",
    "    elif(c.isdigit()):\n",
    "        b=b+1\n",
    "    else:\n",
    "        pass\n",
    "print(\"Number of letters=\",a)\n",
    "print(\"Numbers of digits=\",b)"
   ]
  },
  {
   "cell_type": "code",
   "execution_count": null,
   "metadata": {
    "collapsed": true
   },
   "outputs": [],
   "source": []
  },
  {
   "cell_type": "code",
   "execution_count": null,
   "metadata": {
    "collapsed": true
   },
   "outputs": [],
   "source": []
  }
 ],
 "metadata": {
  "kernelspec": {
   "display_name": "Python 3",
   "language": "python",
   "name": "python3"
  },
  "language_info": {
   "codemirror_mode": {
    "name": "ipython",
    "version": 3
   },
   "file_extension": ".py",
   "mimetype": "text/x-python",
   "name": "python",
   "nbconvert_exporter": "python",
   "pygments_lexer": "ipython3",
   "version": "3.6.3"
  }
 },
 "nbformat": 4,
 "nbformat_minor": 2
}
