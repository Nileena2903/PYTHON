{
 "cells": [
  {
   "cell_type": "code",
   "execution_count": 9,
   "metadata": {},
   "outputs": [
    {
     "name": "stdout",
     "output_type": "stream",
     "text": [
      "Rectangle 1\n",
      "\n",
      "Enter length of Rectangle: 3\n",
      "Enter breadth of Rectangle:5\n",
      "\n",
      "Rectangle 2\n",
      "\n",
      "Enter length of Rectangle:3\n",
      "Enter breadth of Rectangle:5\n",
      "\n",
      "Area of rectangle 1: 15\n",
      "\n",
      "perimeter on rectangle 1: 16\n",
      "\n",
      "Area of rectangle 2: 15\n",
      "\n",
      "perimeter on rectangle 2: 16\n",
      "\n",
      "Rectangles are equal\n"
     ]
    }
   ],
   "source": [
    "#compare 2 Rectangles using objects in class\n",
    "\n",
    "class rectangle():\n",
    "    def get(self,l,b):\n",
    "        self.l=l\n",
    "        self.b=b\n",
    "    def area(self,l,b):\n",
    "        return l*b\n",
    "    def perimeter(self,l,b):\n",
    "        return 2*(l+b)\n",
    "r1=rectangle()\n",
    "r2=rectangle()\n",
    "print(\"Rectangle 1\\n\")\n",
    "l1=int(input(\"Enter length of Rectangle: \"))\n",
    "b1=int(input(\"Enter breadth of Rectangle:\"))\n",
    "print(\"\\nRectangle 2\\n\")\n",
    "l2=int(input(\"Enter length of Rectangle:\"))\n",
    "b2=int(input(\"Enter breadth of Rectangle:\"))\n",
    "print(\"\\nArea of rectangle 1:\",l1*b1)\n",
    "print(\"\\nperimeter on rectangle 1:\",2*(l1+b1))\n",
    "print(\"\\nArea of rectangle 2:\",l2*b2)\n",
    "print(\"\\nperimeter on rectangle 2:\",2*(l2+b2))\n",
    "p=r1.area(l1,b1)\n",
    "q=r2.area(l2,b2)\n",
    "if(p>q):\n",
    "    print(\"\\nRectangle 1 is greater\")\n",
    "elif(p<q):\n",
    "    print(\"\\nRectangle 2 is greater\")\n",
    "else:\n",
    "    print(\"\\nRectangles are equal\")\n"
   ]
  },
  {
   "cell_type": "code",
   "execution_count": null,
   "metadata": {
    "collapsed": true
   },
   "outputs": [],
   "source": []
  },
  {
   "cell_type": "code",
   "execution_count": null,
   "metadata": {
    "collapsed": true
   },
   "outputs": [],
   "source": []
  }
 ],
 "metadata": {
  "kernelspec": {
   "display_name": "Python 3",
   "language": "python",
   "name": "python3"
  },
  "language_info": {
   "codemirror_mode": {
    "name": "ipython",
    "version": 3
   },
   "file_extension": ".py",
   "mimetype": "text/x-python",
   "name": "python",
   "nbconvert_exporter": "python",
   "pygments_lexer": "ipython3",
   "version": "3.6.3"
  }
 },
 "nbformat": 4,
 "nbformat_minor": 2
}
