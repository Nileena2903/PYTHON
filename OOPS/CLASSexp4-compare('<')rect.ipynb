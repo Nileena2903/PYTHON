{
 "cells": [
  {
   "cell_type": "code",
   "execution_count": 5,
   "metadata": {},
   "outputs": [
    {
     "name": "stdout",
     "output_type": "stream",
     "text": [
      "Rectangle 1\n",
      "\n",
      "enter length :4\n",
      "enter width :8\n",
      "\n",
      "Rectangle 2\n",
      "\n",
      "enter length :3\n",
      "enter width :8\n",
      "\n",
      "Rectangle 1 is greater\n"
     ]
    }
   ],
   "source": [
    "#overload '<' operator to compare the area of 2 rectangles\n",
    "\n",
    "class rectangle:\n",
    "    def __init__(self,l,w):\n",
    "        self.length=l\n",
    "        self.width=w\n",
    "        self.a=l*w\n",
    "    def __gt__(self,other):\n",
    "        if self.a<other.a:\n",
    "            print(\"\\nRectangle 1 is greater\")\n",
    "        else:\n",
    "            print(\"\\nRectangle 2 is greater\")\n",
    "print(\"Rectangle 1\\n\")\n",
    "l1=int(input(\"enter length :\"))\n",
    "w1=int(input(\"enter width :\"))\n",
    "print(\"\\nRectangle 2\\n\")\n",
    "l2=int(input(\"enter length :\"))\n",
    "w2=int(input(\"enter width :\"))\n",
    "r1=rectangle(l1,w1)\n",
    "r2=rectangle(l2,w2)\n",
    "r1<r2"
   ]
  },
  {
   "cell_type": "code",
   "execution_count": null,
   "metadata": {
    "collapsed": true
   },
   "outputs": [],
   "source": []
  },
  {
   "cell_type": "code",
   "execution_count": null,
   "metadata": {
    "collapsed": true
   },
   "outputs": [],
   "source": []
  }
 ],
 "metadata": {
  "kernelspec": {
   "display_name": "Python 3",
   "language": "python",
   "name": "python3"
  },
  "language_info": {
   "codemirror_mode": {
    "name": "ipython",
    "version": 3
   },
   "file_extension": ".py",
   "mimetype": "text/x-python",
   "name": "python",
   "nbconvert_exporter": "python",
   "pygments_lexer": "ipython3",
   "version": "3.6.3"
  }
 },
 "nbformat": 4,
 "nbformat_minor": 2
}
