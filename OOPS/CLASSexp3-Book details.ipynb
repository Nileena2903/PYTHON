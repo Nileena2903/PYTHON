{
 "cells": [
  {
   "cell_type": "code",
   "execution_count": 6,
   "metadata": {},
   "outputs": [
    {
     "name": "stdout",
     "output_type": "stream",
     "text": [
      "\n",
      "Enter publisher name: ABC books\n",
      "\n",
      "Enter book name: Half Girlfriend\n",
      "\n",
      "Enter author name: Chetan Bagath\n",
      "\n",
      "Enter rate of book: 1200\n",
      "\n",
      "Enter no. of pages: 256\n",
      "\n",
      "Book details\n",
      "\n",
      "Publisher name= ABC books \n",
      "\n",
      "Title= Half Girlfriend \n",
      "\n",
      "Author Chetan Bagath \n",
      "\n",
      "Rate= 1200 \n",
      "\n",
      "No. of pages= 256 \n",
      "\n"
     ]
    }
   ],
   "source": [
    "#display information about python book using base class constructor invocation\n",
    "\n",
    "class publisher:\n",
    "    def __init__(self,pname):\n",
    "        self.pubname=pname\n",
    "    def display1(self):\n",
    "        print(\"\\nBook details\")\n",
    "        print(\"\\nPublisher name=\",self.pubname,\"\\n\")\n",
    "class book(publisher):\n",
    "    def __init__(self,pname,bname,author):\n",
    "        self.title=bname\n",
    "        self.auth=author\n",
    "        publisher.__init__(self,pname)\n",
    "    def display2(self):\n",
    "        print(\"Title=\",self.title,\"\\n\")\n",
    "        print(\"Author\",self.auth,\"\\n\")\n",
    "class python(book):\n",
    "    def __init__(self,pname,title,au,price,np):\n",
    "        self.rate=price\n",
    "        self.nop=np\n",
    "        book.__init__(self,pname,title,au)\n",
    "    def display3(self):\n",
    "        print(\"Rate=\",self.rate,\"\\n\")\n",
    "        print(\"No. of pages=\", self.nop,\"\\n\")\n",
    "p=input(\"\\nEnter publisher name: \")\n",
    "b=input(\"\\nEnter book name: \")\n",
    "a=input(\"\\nEnter author name: \")\n",
    "r=int(input(\"\\nEnter rate of book: \"))\n",
    "n=int(input(\"\\nEnter no. of pages: \"))\n",
    "a=python(p,b,a,r,n)\n",
    "a.display1()\n",
    "a.display2()\n",
    "a.display3()\n"
   ]
  },
  {
   "cell_type": "code",
   "execution_count": null,
   "metadata": {
    "collapsed": true
   },
   "outputs": [],
   "source": []
  },
  {
   "cell_type": "code",
   "execution_count": null,
   "metadata": {
    "collapsed": true
   },
   "outputs": [],
   "source": []
  }
 ],
 "metadata": {
  "kernelspec": {
   "display_name": "Python 3",
   "language": "python",
   "name": "python3"
  },
  "language_info": {
   "codemirror_mode": {
    "name": "ipython",
    "version": 3
   },
   "file_extension": ".py",
   "mimetype": "text/x-python",
   "name": "python",
   "nbconvert_exporter": "python",
   "pygments_lexer": "ipython3",
   "version": "3.6.3"
  }
 },
 "nbformat": 4,
 "nbformat_minor": 2
}
