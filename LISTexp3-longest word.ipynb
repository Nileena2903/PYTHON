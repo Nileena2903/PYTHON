{
 "cells": [
  {
   "cell_type": "code",
   "execution_count": 1,
   "metadata": {},
   "outputs": [
    {
     "name": "stdout",
     "output_type": "stream",
     "text": [
      "Enter a list of word with comma superated :hello,kashmir,ladak,manali\n",
      "Length of longest word : 7\n"
     ]
    }
   ],
   "source": [
    "#Longest word\n",
    "\n",
    "l=[]\n",
    "m=list(map(str,input(\"Enter a list of word with comma superated :\").split(\",\")))\n",
    "for i in m:\n",
    "    l.append(len(i))\n",
    "print(\"Length of longest word :\",max(l))"
   ]
  },
  {
   "cell_type": "code",
   "execution_count": null,
   "metadata": {
    "collapsed": true
   },
   "outputs": [],
   "source": []
  }
 ],
 "metadata": {
  "kernelspec": {
   "display_name": "Python 3",
   "language": "python",
   "name": "python3"
  },
  "language_info": {
   "codemirror_mode": {
    "name": "ipython",
    "version": 3
   },
   "file_extension": ".py",
   "mimetype": "text/x-python",
   "name": "python",
   "nbconvert_exporter": "python",
   "pygments_lexer": "ipython3",
   "version": "3.6.3"
  }
 },
 "nbformat": 4,
 "nbformat_minor": 2
}
