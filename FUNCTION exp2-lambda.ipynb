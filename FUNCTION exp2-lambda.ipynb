{
 "cells": [
  {
   "cell_type": "code",
   "execution_count": 7,
   "metadata": {},
   "outputs": [
    {
     "name": "stdout",
     "output_type": "stream",
     "text": [
      "\n",
      "1.square\n",
      "2.rectangle\n",
      "3.triangle\n",
      "4.exit\n",
      "\n",
      "enter your choice:1\n",
      "\n",
      "enter side :5\n",
      "\n",
      "area of square= 25\n",
      "\n",
      "1.square\n",
      "2.rectangle\n",
      "3.triangle\n",
      "4.exit\n",
      "\n",
      "enter your choice:2\n",
      "enter length :4\n",
      "enter breadth :5\n",
      "\n",
      "area of rectangle= 20\n",
      "\n",
      "1.square\n",
      "2.rectangle\n",
      "3.triangle\n",
      "4.exit\n",
      "\n",
      "enter your choice:3\n",
      "enter breadth :5\n",
      "enter height :8\n",
      "\n",
      "area of triangle= 20.0\n",
      "\n",
      "1.square\n",
      "2.rectangle\n",
      "3.triangle\n",
      "4.exit\n",
      "\n",
      "enter your choice:4\n",
      "\n",
      "exiting...\n"
     ]
    }
   ],
   "source": [
    "#find area using lambda functions\n",
    "\n",
    "area1=lambda a:a*a\n",
    "area2=lambda l,b:l*b\n",
    "area3=lambda b,h:(b*h)/2\n",
    "while(1):\n",
    "    print(\"\\n1.square\\n2.rectangle\\n3.triangle\\n4.exit\")\n",
    "    ch=int(input(\"\\nenter your choice:\"))\n",
    "    if ch==1:\n",
    "        a=int(input(\"\\nenter side :\"))\n",
    "        print(\"\\narea of square=\",area1(a))\n",
    "    elif(ch==2):\n",
    "        l=int(input(\"enter length :\"))\n",
    "        b=int(input(\"enter breadth :\"))\n",
    "        print(\"\\narea of rectangle=\",area2(l,b))\n",
    "    elif(ch==3):\n",
    "        b=int(input(\"enter breadth :\"))\n",
    "        h=int(input(\"enter height :\"))\n",
    "        print(\"\\narea of triangle=\",area3(b,h))\n",
    "    else:\n",
    "        print(\"\\nexiting...\")\n",
    "        break"
   ]
  },
  {
   "cell_type": "code",
   "execution_count": null,
   "metadata": {
    "collapsed": true
   },
   "outputs": [],
   "source": []
  }
 ],
 "metadata": {
  "kernelspec": {
   "display_name": "Python 3",
   "language": "python",
   "name": "python3"
  },
  "language_info": {
   "codemirror_mode": {
    "name": "ipython",
    "version": 3
   },
   "file_extension": ".py",
   "mimetype": "text/x-python",
   "name": "python",
   "nbconvert_exporter": "python",
   "pygments_lexer": "ipython3",
   "version": "3.6.3"
  }
 },
 "nbformat": 4,
 "nbformat_minor": 2
}
