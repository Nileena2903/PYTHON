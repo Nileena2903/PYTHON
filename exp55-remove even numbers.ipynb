{
 "cells": [
  {
   "cell_type": "code",
   "execution_count": 2,
   "metadata": {},
   "outputs": [
    {
     "name": "stdout",
     "output_type": "stream",
     "text": [
      "List Items =  [11, 22, 31, 44, 51, 65, 71, 86, 91]\n",
      "\n",
      "List after removing even Numbers =  [11, 31, 51, 65, 71, 91]\n"
     ]
    }
   ],
   "source": [
    "#55 Remove even numbers from list\n",
    "List = [11, 22, 31, 44, 51, 65, 71, 86, 91]\n",
    "print(\"List Items = \", List)\n",
    " \n",
    "for even in List:\n",
    "    if (even % 2 == 0):\n",
    "        List.remove(even)\n",
    "   \n",
    "print(\"\\nList after removing even Numbers = \", List)\n"
   ]
  },
  {
   "cell_type": "code",
   "execution_count": null,
   "metadata": {
    "collapsed": true
   },
   "outputs": [],
   "source": []
  }
 ],
 "metadata": {
  "kernelspec": {
   "display_name": "Python 3",
   "language": "python",
   "name": "python3"
  },
  "language_info": {
   "codemirror_mode": {
    "name": "ipython",
    "version": 3
   },
   "file_extension": ".py",
   "mimetype": "text/x-python",
   "name": "python",
   "nbconvert_exporter": "python",
   "pygments_lexer": "ipython3",
   "version": "3.6.3"
  }
 },
 "nbformat": 4,
 "nbformat_minor": 2
}
