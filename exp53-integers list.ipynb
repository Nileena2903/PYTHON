{
 "cells": [
  {
   "cell_type": "code",
   "execution_count": 6,
   "metadata": {},
   "outputs": [
    {
     "name": "stdout",
     "output_type": "stream",
     "text": [
      "list 1 : ['10', '20', '35', '55']\n",
      "\n",
      "list 2 : ['30', '55', '60', '100', '11', '11']\n",
      "\n",
      "Two lists have unequal length\n",
      "\n",
      "sum of two list are  not equal\n",
      "\n",
      " 55 occurs in both list\n"
     ]
    }
   ],
   "source": [
    "#53 List of integers\n",
    "list1 = ['10', '20', '35', '55']\n",
    "list2 = ['30', '55', '60', '100', '11', '11']\n",
    "sum1 = str(0)\n",
    "sum2 = str(0)\n",
    "print(\"list 1 :\",list1)\n",
    "print(\"\\nlist 2 :\",list2)\n",
    "if len(list1) == len(list2):\n",
    "    print(\"\\nboth list are of equal length\")\n",
    "else:\n",
    "    print(\"\\nTwo lists have unequal length\")\n",
    "for x in list1:\n",
    "    sum1 = sum1 + x\n",
    "for x in list2:\n",
    "    sum2 = sum2 + x\n",
    "if sum1 == sum2:\n",
    "    a = \"equal\"  \n",
    "else:\n",
    "    a = \"not equal\"  \n",
    "print(\"\\nsum of two list are \", a)  \n",
    "for x in list1:\n",
    "    for y in list2:\n",
    "        if x == y:\n",
    "            print(\"\\n\",y,\"occurs in both list\")\n",
    " "
   ]
  },
  {
   "cell_type": "code",
   "execution_count": null,
   "metadata": {
    "collapsed": true
   },
   "outputs": [],
   "source": []
  }
 ],
 "metadata": {
  "kernelspec": {
   "display_name": "Python 3",
   "language": "python",
   "name": "python3"
  },
  "language_info": {
   "codemirror_mode": {
    "name": "ipython",
    "version": 3
   },
   "file_extension": ".py",
   "mimetype": "text/x-python",
   "name": "python",
   "nbconvert_exporter": "python",
   "pygments_lexer": "ipython3",
   "version": "3.6.3"
  }
 },
 "nbformat": 4,
 "nbformat_minor": 2
}
