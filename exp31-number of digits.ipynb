{
 "cells": [
  {
   "cell_type": "code",
   "execution_count": 4,
   "metadata": {},
   "outputs": [
    {
     "name": "stdout",
     "output_type": "stream",
     "text": [
      "Enter a number :4647689\n",
      "Number of digits : 7\n"
     ]
    }
   ],
   "source": [
    "#TO FIND NUMBER OF DIGITS IN A GIVEN NUMBER\n",
    "\n",
    "n=int(input(\"Enter a number :\"))\n",
    "count=0\n",
    "while(n!=0):\n",
    "    p=n%10\n",
    "    count=count+1\n",
    "    n=n//10\n",
    "print(\"Number of digits :\",count)"
   ]
  },
  {
   "cell_type": "code",
   "execution_count": null,
   "metadata": {
    "collapsed": true
   },
   "outputs": [],
   "source": []
  }
 ],
 "metadata": {
  "kernelspec": {
   "display_name": "Python 3",
   "language": "python",
   "name": "python3"
  },
  "language_info": {
   "codemirror_mode": {
    "name": "ipython",
    "version": 3
   },
   "file_extension": ".py",
   "mimetype": "text/x-python",
   "name": "python",
   "nbconvert_exporter": "python",
   "pygments_lexer": "ipython3",
   "version": "3.6.3"
  }
 },
 "nbformat": 4,
 "nbformat_minor": 2
}
