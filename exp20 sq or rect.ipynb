{
 "cells": [
  {
   "cell_type": "code",
   "execution_count": 5,
   "metadata": {},
   "outputs": [
    {
     "name": "stdout",
     "output_type": "stream",
     "text": [
      "enter the length of a rectangle :7\n",
      "enter the breadth of rectangle :7\n",
      "it is a square\n"
     ]
    }
   ],
   "source": [
    "# TO CHECK SQUARE OR NOT\n",
    "\n",
    "l=int(input(\"enter the length of a rectangle :\"))\n",
    "b=int(input(\"enter the breadth of rectangle :\"))\n",
    "if(l!=b):print(\"it is a rectangle\")\n",
    "else:print(\"it is a square\")"
   ]
  },
  {
   "cell_type": "code",
   "execution_count": null,
   "metadata": {
    "collapsed": true
   },
   "outputs": [],
   "source": []
  },
  {
   "cell_type": "code",
   "execution_count": null,
   "metadata": {
    "collapsed": true
   },
   "outputs": [],
   "source": []
  }
 ],
 "metadata": {
  "kernelspec": {
   "display_name": "Python 3",
   "language": "python",
   "name": "python3"
  },
  "language_info": {
   "codemirror_mode": {
    "name": "ipython",
    "version": 3
   },
   "file_extension": ".py",
   "mimetype": "text/x-python",
   "name": "python",
   "nbconvert_exporter": "python",
   "pygments_lexer": "ipython3",
   "version": "3.6.3"
  }
 },
 "nbformat": 4,
 "nbformat_minor": 2
}
