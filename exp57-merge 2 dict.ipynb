{
 "cells": [
  {
   "cell_type": "code",
   "execution_count": 6,
   "metadata": {},
   "outputs": [
    {
     "name": "stdout",
     "output_type": "stream",
     "text": [
      "list 1 : {1: 'palakkad', 2: 'kochi', 3: 'Kottayam'}\n",
      "\n",
      "list 2 : {4: 'Thiruvananthapuram', 5: 'Ernamkulam'}\n",
      "\n",
      "First dictionary: {1: 'palakkad', 2: 'kochi', 3: 'Kottayam'}\n",
      "\n",
      "Second dictionary: {4: 'Thiruvananthapuram', 5: 'Ernamkulam'}\n",
      "\n",
      "Merging two dictionaries: {1: 'palakkad', 2: 'kochi', 3: 'Kottayam', 4: 'Thiruvananthapuram', 5: 'Ernamkulam'}\n"
     ]
    }
   ],
   "source": [
    "#57 Merge dictionaries.\n",
    "\n",
    "\n",
    "d1={1:'palakkad',2:'kochi',3:'Kottayam'}\n",
    "d2={4:'Thiruvananthapuram',5:'Ernamkulam',}\n",
    "print(\"list 1 :\",d1)\n",
    "print(\"\\nlist 2 :\",d2)\n",
    "print(\"\\nFirst dictionary:\",d1)\n",
    "print(\"\\nSecond dictionary:\",d2)\n",
    "d3=d1\n",
    "d1.update(d2)\n",
    "print(\"\\nMerging two dictionaries:\",d3)\n"
   ]
  },
  {
   "cell_type": "code",
   "execution_count": null,
   "metadata": {
    "collapsed": true
   },
   "outputs": [],
   "source": []
  }
 ],
 "metadata": {
  "kernelspec": {
   "display_name": "Python 3",
   "language": "python",
   "name": "python3"
  },
  "language_info": {
   "codemirror_mode": {
    "name": "ipython",
    "version": 3
   },
   "file_extension": ".py",
   "mimetype": "text/x-python",
   "name": "python",
   "nbconvert_exporter": "python",
   "pygments_lexer": "ipython3",
   "version": "3.6.3"
  }
 },
 "nbformat": 4,
 "nbformat_minor": 2
}
