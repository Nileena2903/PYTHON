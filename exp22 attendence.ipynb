{
 "cells": [
  {
   "cell_type": "code",
   "execution_count": 7,
   "metadata": {},
   "outputs": [
    {
     "name": "stdout",
     "output_type": "stream",
     "text": [
      "Number of classes held :90\n",
      "Number of classes attended :73\n",
      "percentage of attendence: 81\n",
      "allowed\n"
     ]
    }
   ],
   "source": [
    "# print percentage of class attended and if the student is allowed to sit in exam or not \n",
    "\n",
    "a=int(input(\"Number of classes held :\"))\n",
    "b=int(input(\"Number of classes attended :\"))\n",
    "p=(b/a)*100\n",
    "print(\"percentage of attendence: %d\"%p)\n",
    "if(p>=75):print(\"allowed\")\n",
    "else:print(\"not allowed\")\n",
    "    "
   ]
  },
  {
   "cell_type": "code",
   "execution_count": null,
   "metadata": {
    "collapsed": true
   },
   "outputs": [],
   "source": []
  }
 ],
 "metadata": {
  "kernelspec": {
   "display_name": "Python 3",
   "language": "python",
   "name": "python3"
  },
  "language_info": {
   "codemirror_mode": {
    "name": "ipython",
    "version": 3
   },
   "file_extension": ".py",
   "mimetype": "text/x-python",
   "name": "python",
   "nbconvert_exporter": "python",
   "pygments_lexer": "ipython3",
   "version": "3.6.3"
  }
 },
 "nbformat": 4,
 "nbformat_minor": 2
}
