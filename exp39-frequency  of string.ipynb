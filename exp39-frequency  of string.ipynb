{
 "cells": [
  {
   "cell_type": "code",
   "execution_count": 1,
   "metadata": {},
   "outputs": [
    {
     "name": "stdout",
     "output_type": "stream",
     "text": [
      "enter a string :do what you love\n",
      "d is repeated 1 time(s)\n",
      "o is repeated 3 time(s)\n",
      "  is repeated 3 time(s)\n",
      "w is repeated 1 time(s)\n",
      "h is repeated 1 time(s)\n",
      "a is repeated 1 time(s)\n",
      "t is repeated 1 time(s)\n",
      "y is repeated 1 time(s)\n",
      "u is repeated 1 time(s)\n",
      "l is repeated 1 time(s)\n",
      "v is repeated 1 time(s)\n",
      "e is repeated 1 time(s)\n"
     ]
    }
   ],
   "source": [
    "#Freaquency of characters in a string\n",
    "\n",
    "s=input(\"enter a string :\")\n",
    "f={}\n",
    "for i in s:\n",
    "    if i in f:\n",
    "        f[i]=f[i]+1\n",
    "    else:\n",
    "        f[i]=1\n",
    "for keys,value in f.items():\n",
    "    print(keys,\"is repeated\",value,\"time(s)\")"
   ]
  },
  {
   "cell_type": "code",
   "execution_count": null,
   "metadata": {
    "collapsed": true
   },
   "outputs": [],
   "source": []
  }
 ],
 "metadata": {
  "kernelspec": {
   "display_name": "Python 3",
   "language": "python",
   "name": "python3"
  },
  "language_info": {
   "codemirror_mode": {
    "name": "ipython",
    "version": 3
   },
   "file_extension": ".py",
   "mimetype": "text/x-python",
   "name": "python",
   "nbconvert_exporter": "python",
   "pygments_lexer": "ipython3",
   "version": "3.6.3"
  }
 },
 "nbformat": 4,
 "nbformat_minor": 2
}
