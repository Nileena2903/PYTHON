{
 "cells": [
  {
   "cell_type": "code",
   "execution_count": 5,
   "metadata": {},
   "outputs": [
    {
     "name": "stdout",
     "output_type": "stream",
     "text": [
      "first list of color: {'Red', 'Yellow', 'Black'}\n",
      "\n",
      "second list of color {'Red', 'white'}\n",
      "\n",
      "Difference of color list1 and color list2:\n",
      "\n",
      "{'Yellow', 'Black'}\n"
     ]
    }
   ],
   "source": [
    "#54 Print out all colors from color-list1 not contained in color-list2\n",
    "\n",
    "clr1 = set([\"Yellow\", \"Black\", \"Red\"])\n",
    "clr2 = set([\"Red\", \"white\"])\n",
    "print(\"first list of color:\",clr1)\n",
    "print(\"\\nsecond list of color\",clr2)\n",
    "print(\"\\nDifference of color list1 and color list2:\\n\")\n",
    "print(clr1.difference(clr2))\n",
    " \n"
   ]
  },
  {
   "cell_type": "code",
   "execution_count": null,
   "metadata": {
    "collapsed": true
   },
   "outputs": [],
   "source": []
  }
 ],
 "metadata": {
  "kernelspec": {
   "display_name": "Python 3",
   "language": "python",
   "name": "python3"
  },
  "language_info": {
   "codemirror_mode": {
    "name": "ipython",
    "version": 3
   },
   "file_extension": ".py",
   "mimetype": "text/x-python",
   "name": "python",
   "nbconvert_exporter": "python",
   "pygments_lexer": "ipython3",
   "version": "3.6.3"
  }
 },
 "nbformat": 4,
 "nbformat_minor": 2
}
