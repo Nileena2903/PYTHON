{
 "cells": [
  {
   "cell_type": "code",
   "execution_count": 14,
   "metadata": {},
   "outputs": [
    {
     "name": "stdout",
     "output_type": "stream",
     "text": [
      "enter first number :5000\n",
      "enter second number :8000\n",
      "enter third number :2000\n",
      "8000 is greater\n"
     ]
    }
   ],
   "source": [
    "# LARGEST OF 3 NUMBERS\n",
    "\n",
    "n1=int(input(\"enter first number :\"))\n",
    "n2=int(input(\"enter second number :\"))\n",
    "n3=int(input(\"enter third number :\"))\n",
    "if(n1>n2):\n",
    "    if(n1>n3):\n",
    "     print(n1,\"is greater\")\n",
    "elif(n2>n3):    \n",
    "     print(n2,\"is greater\")\n",
    "else:\n",
    "     print(n3,\"is greater\")"
   ]
  },
  {
   "cell_type": "code",
   "execution_count": null,
   "metadata": {
    "collapsed": true
   },
   "outputs": [],
   "source": []
  },
  {
   "cell_type": "code",
   "execution_count": null,
   "metadata": {
    "collapsed": true
   },
   "outputs": [],
   "source": []
  }
 ],
 "metadata": {
  "kernelspec": {
   "display_name": "Python 3",
   "language": "python",
   "name": "python3"
  },
  "language_info": {
   "codemirror_mode": {
    "name": "ipython",
    "version": 3
   },
   "file_extension": ".py",
   "mimetype": "text/x-python",
   "name": "python",
   "nbconvert_exporter": "python",
   "pygments_lexer": "ipython3",
   "version": "3.6.3"
  }
 },
 "nbformat": 4,
 "nbformat_minor": 2
}
