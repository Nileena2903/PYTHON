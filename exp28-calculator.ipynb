{
 "cells": [
  {
   "cell_type": "code",
   "execution_count": 13,
   "metadata": {},
   "outputs": [
    {
     "name": "stdout",
     "output_type": "stream",
     "text": [
      "First Number :35364\n",
      "Second Number :464\n",
      "1.addition\n",
      "2.substraction\n",
      "3.multiplication\n",
      "4.division\n",
      "enter your choice(1-4) : 4\n",
      "division =76.22\n"
     ]
    }
   ],
   "source": [
    "# SIMPLE CALCULATOR\n",
    "\n",
    "m=float(input(\"First Number :\"))\n",
    "n=float(input(\"Second Number :\"))\n",
    "x=m/n\n",
    "print(\"1.addition\")\n",
    "print(\"2.substraction\")\n",
    "print(\"3.multiplication\")\n",
    "print(\"4.division\")\n",
    "p=int(input(\"enter your choice(1-4) : \"))\n",
    "if(p==1):print(\"addition =\",m+n)\n",
    "elif(p==2):print(\"substraction =\",m-n)\n",
    "elif(p==3):print(\"multiplication =\",m*n)\n",
    "elif(p==4):print(\"division =%.2f\"%x) \n",
    "else:print(\"invalid choice\")"
   ]
  },
  {
   "cell_type": "code",
   "execution_count": null,
   "metadata": {
    "collapsed": true
   },
   "outputs": [],
   "source": []
  }
 ],
 "metadata": {
  "kernelspec": {
   "display_name": "Python 3",
   "language": "python",
   "name": "python3"
  },
  "language_info": {
   "codemirror_mode": {
    "name": "ipython",
    "version": 3
   },
   "file_extension": ".py",
   "mimetype": "text/x-python",
   "name": "python",
   "nbconvert_exporter": "python",
   "pygments_lexer": "ipython3",
   "version": "3.6.3"
  }
 },
 "nbformat": 4,
 "nbformat_minor": 2
}
