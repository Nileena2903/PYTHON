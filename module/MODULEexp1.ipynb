{
 "cells": [
  {
   "cell_type": "code",
   "execution_count": null,
   "metadata": {},
   "outputs": [
    {
     "name": "stdout",
     "output_type": "stream",
     "text": [
      "\n",
      "1.rectangle\n",
      "2.circle\n",
      "3.exit\n",
      "\n",
      "Enter your choice :1\n",
      "enter length :5\n",
      "enter breadth :6\n",
      "Area= 30\n",
      "Perimeter= 22\n",
      "\n",
      "1.rectangle\n",
      "2.circle\n",
      "3.exit\n",
      "\n",
      "Enter your choice :2\n",
      "Enter radius6\n",
      "Area= 113.03999999999999\n",
      "Perimeter= 37.68\n",
      "\n",
      "1.rectangle\n",
      "2.circle\n",
      "3.exit\n"
     ]
    }
   ],
   "source": [
    "import rectangle\n",
    "import circle\n",
    "while(1):\n",
    "    print(\"\\n1.rectangle\\n2.circle\\n3.exit\")\n",
    "    ch=int(input(\"\\nEnter your choice :\"))\n",
    "    if(ch==1):\n",
    "        l=int(input(\"enter length :\"))\n",
    "        b=int(input(\"enter breadth :\"))\n",
    "        rectangle.rectarea(l,b)\n",
    "        rectangle.rectperi(l,b)\n",
    "    if(ch==2):\n",
    "        r=int(input(\"Enter radius\"))\n",
    "        circle.circarea(r)\n",
    "        circle.circperi(r)\n",
    "    if(ch==3):\n",
    "        printf(\"Exiting....\")\n",
    "        break"
   ]
  },
  {
   "cell_type": "code",
   "execution_count": null,
   "metadata": {
    "collapsed": true
   },
   "outputs": [],
   "source": []
  }
 ],
 "metadata": {
  "kernelspec": {
   "display_name": "Python 3",
   "language": "python",
   "name": "python3"
  },
  "language_info": {
   "codemirror_mode": {
    "name": "ipython",
    "version": 3
   },
   "file_extension": ".py",
   "mimetype": "text/x-python",
   "name": "python",
   "nbconvert_exporter": "python",
   "pygments_lexer": "ipython3",
   "version": "3.6.3"
  }
 },
 "nbformat": 4,
 "nbformat_minor": 2
}
