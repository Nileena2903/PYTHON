{
 "cells": [
  {
   "cell_type": "code",
   "execution_count": 1,
   "metadata": {},
   "outputs": [
    {
     "name": "stdout",
     "output_type": "stream",
     "text": [
      "enter the list numbers:12,23,224,41,31,12\n",
      "['12', '23', '224', '41', '31', '12']\n",
      "TRUE ,first and last numbers are same\n"
     ]
    }
   ],
   "source": [
    "#TO PRINT 'TRUE' IF FIRST AND LAST NUMBERS ARE SAME\n",
    "\n",
    "l=input(\"enter the list numbers:\")\n",
    "p=l.split(\",\")\n",
    "print(p)\n",
    "if(p[0]==p[-1]):\n",
    "    print(\"TRUE ,first and last numbers are same\")\n",
    "else:print(\"first and last numbers are different\")    "
   ]
  },
  {
   "cell_type": "code",
   "execution_count": null,
   "metadata": {
    "collapsed": true
   },
   "outputs": [],
   "source": []
  },
  {
   "cell_type": "code",
   "execution_count": null,
   "metadata": {
    "collapsed": true
   },
   "outputs": [],
   "source": []
  }
 ],
 "metadata": {
  "kernelspec": {
   "display_name": "Python 3",
   "language": "python",
   "name": "python3"
  },
  "language_info": {
   "codemirror_mode": {
    "name": "ipython",
    "version": 3
   },
   "file_extension": ".py",
   "mimetype": "text/x-python",
   "name": "python",
   "nbconvert_exporter": "python",
   "pygments_lexer": "ipython3",
   "version": "3.6.3"
  }
 },
 "nbformat": 4,
 "nbformat_minor": 2
}
