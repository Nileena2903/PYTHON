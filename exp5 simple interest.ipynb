{
 "cells": [
  {
   "cell_type": "code",
   "execution_count": 2,
   "metadata": {},
   "outputs": [
    {
     "name": "stdout",
     "output_type": "stream",
     "text": [
      "enter the principle amount:500\n",
      "enter the time period:3\n",
      "enter rate of interest10\n",
      "simple interest is 150.0\n"
     ]
    }
   ],
   "source": [
    "p=int(input('enter the principle amount:'))\n",
    "t=int(input('enter the time period:'))\n",
    "r=int(input('enter rate of interest'))\n",
    "s=(p*r*t)/100\n",
    "print('simple interest is',s)"
   ]
  },
  {
   "cell_type": "code",
   "execution_count": 1,
   "metadata": {},
   "outputs": [
    {
     "name": "stdout",
     "output_type": "stream",
     "text": [
      "enter a integer8\n",
      "the next number id 9 the previous is 7\n"
     ]
    }
   ],
   "source": [
    "num=int(input(\"enter a integer:\"))\n",
    "next=num+1\n",
    "prev=num-1\n",
    "print(\"the next number id\",next,\"the previous is\",prev)"
   ]
  },
  {
   "cell_type": "code",
   "execution_count": null,
   "metadata": {
    "collapsed": true
   },
   "outputs": [],
   "source": []
  }
 ],
 "metadata": {
  "kernelspec": {
   "display_name": "Python 3",
   "language": "python",
   "name": "python3"
  },
  "language_info": {
   "codemirror_mode": {
    "name": "ipython",
    "version": 3
   },
   "file_extension": ".py",
   "mimetype": "text/x-python",
   "name": "python",
   "nbconvert_exporter": "python",
   "pygments_lexer": "ipython3",
   "version": "3.6.3"
  }
 },
 "nbformat": 4,
 "nbformat_minor": 2
}
