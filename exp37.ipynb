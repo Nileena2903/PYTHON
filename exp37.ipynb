{
 "cells": [
  {
   "cell_type": "code",
   "execution_count": 1,
   "metadata": {},
   "outputs": [
    {
     "name": "stdout",
     "output_type": "stream",
     "text": [
      "enter a list :10,20,30,40,50\n",
      "sum of the elements in ['10', '20', '30', '40', '50'] = 150\n"
     ]
    }
   ],
   "source": [
    "#sum of elements in a list\n",
    "\n",
    "l=list(input(\"enter a list :\").split(\",\"))\n",
    "m=len(l)\n",
    "a=0\n",
    "i=0\n",
    "for i in range(m):\n",
    "    b=int(l[i])\n",
    "    a=a+b\n",
    "print(\"sum of the elements in\",l,\"=\",a)"
   ]
  },
  {
   "cell_type": "code",
   "execution_count": null,
   "metadata": {
    "collapsed": true
   },
   "outputs": [],
   "source": []
  },
  {
   "cell_type": "code",
   "execution_count": null,
   "metadata": {
    "collapsed": true
   },
   "outputs": [],
   "source": []
  }
 ],
 "metadata": {
  "kernelspec": {
   "display_name": "Python 3",
   "language": "python",
   "name": "python3"
  },
  "language_info": {
   "codemirror_mode": {
    "name": "ipython",
    "version": 3
   },
   "file_extension": ".py",
   "mimetype": "text/x-python",
   "name": "python",
   "nbconvert_exporter": "python",
   "pygments_lexer": "ipython3",
   "version": "3.6.3"
  }
 },
 "nbformat": 4,
 "nbformat_minor": 2
}
