{
 "cells": [
  {
   "cell_type": "code",
   "execution_count": 7,
   "metadata": {},
   "outputs": [
    {
     "name": "stdout",
     "output_type": "stream",
     "text": [
      "enter first integer :45\n",
      "enter second integer :3\n",
      "product  135 is less than 1000\n"
     ]
    }
   ],
   "source": [
    "#Given a two integer numbers return their product and if the product is greater than 1000,\n",
    "#return their sum \n",
    "\n",
    "n1=int(input(\"enter first integer :\"))\n",
    "n2=int(input(\"enter second integer :\"))\n",
    "p=n1*n2\n",
    "if(p>1000):\n",
    " print(\"product %d is greater than 1000\"%p)\n",
    " print(\"sum is :\",n1+n2)\n",
    "else:print(\"product  %d is less than 1000\"%p)   \n",
    "    "
   ]
  },
  {
   "cell_type": "code",
   "execution_count": null,
   "metadata": {
    "collapsed": true
   },
   "outputs": [],
   "source": []
  },
  {
   "cell_type": "code",
   "execution_count": null,
   "metadata": {
    "collapsed": true
   },
   "outputs": [],
   "source": []
  }
 ],
 "metadata": {
  "kernelspec": {
   "display_name": "Python 3",
   "language": "python",
   "name": "python3"
  },
  "language_info": {
   "codemirror_mode": {
    "name": "ipython",
    "version": 3
   },
   "file_extension": ".py",
   "mimetype": "text/x-python",
   "name": "python",
   "nbconvert_exporter": "python",
   "pygments_lexer": "ipython3",
   "version": "3.6.3"
  }
 },
 "nbformat": 4,
 "nbformat_minor": 2
}
