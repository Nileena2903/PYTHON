{
 "cells": [
  {
   "cell_type": "code",
   "execution_count": 6,
   "metadata": {},
   "outputs": [
    {
     "name": "stdout",
     "output_type": "stream",
     "text": [
      "enter the name of colours with comma supperatedgreen,yellow,blue,orange,white\n",
      "['green', 'yellow', 'blue', 'orange', 'white']\n",
      "first colour : green\n",
      "last colour : white\n"
     ]
    }
   ],
   "source": [
    "#display first and last colors of list\n",
    "\n",
    "l=input(\"enter the name of colours with comma supperated\")\n",
    "p=l.split(\",\")\n",
    "print(p)\n",
    "print(\"first colour :\",p[0])\n",
    "print(\"last colour :\",p[-1])"
   ]
  },
  {
   "cell_type": "code",
   "execution_count": null,
   "metadata": {
    "collapsed": true
   },
   "outputs": [],
   "source": []
  },
  {
   "cell_type": "code",
   "execution_count": null,
   "metadata": {
    "collapsed": true
   },
   "outputs": [],
   "source": []
  }
 ],
 "metadata": {
  "kernelspec": {
   "display_name": "Python 3",
   "language": "python",
   "name": "python3"
  },
  "language_info": {
   "codemirror_mode": {
    "name": "ipython",
    "version": 3
   },
   "file_extension": ".py",
   "mimetype": "text/x-python",
   "name": "python",
   "nbconvert_exporter": "python",
   "pygments_lexer": "ipython3",
   "version": "3.6.3"
  }
 },
 "nbformat": 4,
 "nbformat_minor": 2
}
