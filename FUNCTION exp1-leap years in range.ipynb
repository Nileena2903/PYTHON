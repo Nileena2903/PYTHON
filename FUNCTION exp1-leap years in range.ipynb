{
 "cells": [
  {
   "cell_type": "code",
   "execution_count": 1,
   "metadata": {},
   "outputs": [
    {
     "name": "stdout",
     "output_type": "stream",
     "text": [
      "Enter starting year :2000\n",
      "Enter last year :2022\n",
      "leap years from 2000 to 2022 is :\n",
      "2000\n",
      "2004\n",
      "2008\n",
      "2012\n",
      "2016\n",
      "2020\n"
     ]
    }
   ],
   "source": [
    "#print leap years in given range\n",
    "\n",
    "a=int(input(\"Enter starting year :\"))\n",
    "b=int(input(\"Enter last year :\"))\n",
    "print(\"leap years from\",a,\"to\",b,\"is :\")\n",
    "for i in range(a,b):\n",
    "    if(i%4==0)and(i%100!=0)or(i%400==0):\n",
    "        print(i)"
   ]
  },
  {
   "cell_type": "code",
   "execution_count": null,
   "metadata": {
    "collapsed": true
   },
   "outputs": [],
   "source": []
  }
 ],
 "metadata": {
  "kernelspec": {
   "display_name": "Python 3",
   "language": "python",
   "name": "python3"
  },
  "language_info": {
   "codemirror_mode": {
    "name": "ipython",
    "version": 3
   },
   "file_extension": ".py",
   "mimetype": "text/x-python",
   "name": "python",
   "nbconvert_exporter": "python",
   "pygments_lexer": "ipython3",
   "version": "3.6.3"
  }
 },
 "nbformat": 4,
 "nbformat_minor": 2
}
