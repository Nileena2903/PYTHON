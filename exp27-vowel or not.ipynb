{
 "cells": [
  {
   "cell_type": "code",
   "execution_count": 9,
   "metadata": {},
   "outputs": [
    {
     "name": "stdout",
     "output_type": "stream",
     "text": [
      "enter a value :I\n",
      "I  is a vowel\n"
     ]
    }
   ],
   "source": [
    "# TO CHECK A VALUE IS VOWEL OR NOT\n",
    "\n",
    "m=input(\"enter a value :\")\n",
    "vowel=['a','A','e','E','i','I','o','O','u','U']\n",
    "if(m in vowel):\n",
    "   print(m,\" is a vowel\")\n",
    "else:\n",
    "   print(m,\"is not a vowel\")\n"
   ]
  },
  {
   "cell_type": "code",
   "execution_count": null,
   "metadata": {
    "collapsed": true
   },
   "outputs": [],
   "source": []
  },
  {
   "cell_type": "code",
   "execution_count": null,
   "metadata": {
    "collapsed": true
   },
   "outputs": [],
   "source": []
  }
 ],
 "metadata": {
  "kernelspec": {
   "display_name": "Python 3",
   "language": "python",
   "name": "python3"
  },
  "language_info": {
   "codemirror_mode": {
    "name": "ipython",
    "version": 3
   },
   "file_extension": ".py",
   "mimetype": "text/x-python",
   "name": "python",
   "nbconvert_exporter": "python",
   "pygments_lexer": "ipython3",
   "version": "3.6.3"
  }
 },
 "nbformat": 4,
 "nbformat_minor": 2
}
