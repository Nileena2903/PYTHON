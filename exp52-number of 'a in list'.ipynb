{
 "cells": [
  {
   "cell_type": "code",
   "execution_count": 9,
   "metadata": {},
   "outputs": [
    {
     "name": "stdout",
     "output_type": "stream",
     "text": [
      "list of names : ['alice', 'Bob', 'Charlie', 'Dave', 'Eve', 'Frank']\n",
      "\n",
      "Number of occurrences of 'a': 4\n"
     ]
    }
   ],
   "source": [
    "#52.Store a list of first names.Count the occurrences of ‘a’ within the list.\n",
    "\n",
    "names = [\"alice\", \"Bob\", \"Charlie\", \"Dave\", \"Eve\", \"Frank\"]\n",
    "print(\"list of names :\",names)   \n",
    "count = 0\n",
    "for name in names:\n",
    "    count += name.count(\"a\")\n",
    "    \n",
    "print(f\"\\nNumber of occurrences of 'a': {count}\")"
   ]
  },
  {
   "cell_type": "code",
   "execution_count": null,
   "metadata": {
    "collapsed": true
   },
   "outputs": [],
   "source": []
  }
 ],
 "metadata": {
  "kernelspec": {
   "display_name": "Python 3",
   "language": "python",
   "name": "python3"
  },
  "language_info": {
   "codemirror_mode": {
    "name": "ipython",
    "version": 3
   },
   "file_extension": ".py",
   "mimetype": "text/x-python",
   "name": "python",
   "nbconvert_exporter": "python",
   "pygments_lexer": "ipython3",
   "version": "3.6.3"
  }
 },
 "nbformat": 4,
 "nbformat_minor": 2
}
