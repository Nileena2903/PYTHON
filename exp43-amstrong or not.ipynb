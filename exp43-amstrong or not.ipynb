{
 "cells": [
  {
   "cell_type": "code",
   "execution_count": 6,
   "metadata": {},
   "outputs": [
    {
     "name": "stdout",
     "output_type": "stream",
     "text": [
      "enter a number :153\n",
      "153  is an Amstrong Number\n"
     ]
    }
   ],
   "source": [
    "# check amstrong or not\n",
    "x=input(\"enter a number :\")\n",
    "result=0\n",
    "for i in range(len(x)):\n",
    "    y=int(x[i])\n",
    "    result=result+(y**int(len(x)))\n",
    "if result==int(x):\n",
    "    print(x,\" is an Amstrong Number\")\n",
    "elif result!=int(x):\n",
    "    print(x,\" is Not an Amstrong Number\")\n"
   ]
  },
  {
   "cell_type": "code",
   "execution_count": null,
   "metadata": {
    "collapsed": true
   },
   "outputs": [],
   "source": []
  }
 ],
 "metadata": {
  "kernelspec": {
   "display_name": "Python 3",
   "language": "python",
   "name": "python3"
  },
  "language_info": {
   "codemirror_mode": {
    "name": "ipython",
    "version": 3
   },
   "file_extension": ".py",
   "mimetype": "text/x-python",
   "name": "python",
   "nbconvert_exporter": "python",
   "pygments_lexer": "ipython3",
   "version": "3.6.3"
  }
 },
 "nbformat": 4,
 "nbformat_minor": 2
}
