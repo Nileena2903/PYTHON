{
 "cells": [
  {
   "cell_type": "code",
   "execution_count": 16,
   "metadata": {},
   "outputs": [
    {
     "name": "stdout",
     "output_type": "stream",
     "text": [
      "enter a number :2\n"
     ]
    }
   ],
   "source": [
    "#check whether a number is prime or not\n",
    "\n",
    "n=int(input(\"enter a number :\"))\n",
    "if(n>1):\n",
    "    for i in range(2,n):\n",
    "        if(n%i)==0:\n",
    "          print(\"%d is not a prime number\"%n)\n",
    "          break\n",
    "        else:\n",
    "            print(\"%d is a prime number\"%n)\n",
    "            break\n",
    "else:\n",
    "  print(\"%d is not a prime number\"%n)"
   ]
  },
  {
   "cell_type": "code",
   "execution_count": null,
   "metadata": {
    "collapsed": true
   },
   "outputs": [],
   "source": []
  },
  {
   "cell_type": "code",
   "execution_count": null,
   "metadata": {
    "collapsed": true
   },
   "outputs": [],
   "source": []
  }
 ],
 "metadata": {
  "kernelspec": {
   "display_name": "Python 3",
   "language": "python",
   "name": "python3"
  },
  "language_info": {
   "codemirror_mode": {
    "name": "ipython",
    "version": 3
   },
   "file_extension": ".py",
   "mimetype": "text/x-python",
   "name": "python",
   "nbconvert_exporter": "python",
   "pygments_lexer": "ipython3",
   "version": "3.6.3"
  }
 },
 "nbformat": 4,
 "nbformat_minor": 2
}
